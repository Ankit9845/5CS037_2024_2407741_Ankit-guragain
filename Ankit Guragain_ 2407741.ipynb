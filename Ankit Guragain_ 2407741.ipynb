{
  "nbformat": 4,
  "nbformat_minor": 0,
  "metadata": {
    "colab": {
      "provenance": []
    },
    "kernelspec": {
      "name": "python3",
      "display_name": "Python 3"
    },
    "language_info": {
      "name": "python"
    }
  },
  "cells": [
    {
      "cell_type": "code",
      "execution_count": 11,
      "metadata": {
        "id": "ySXnMViaLY8r"
      },
      "outputs": [],
      "source": [
        "temperatures = [8.2, 17.4, 14.1, 7.9, 18.0, 13.5, 9.0, 17.8, 13.0, 8.5,\n",
        "16.5, 12.9, 7.7, 17.2, 13.3, 8.4, 16.7, 14.0, 9.5, 18.3, 13.4, 8.1,\n",
        "17.9, 14.2, 7.6, 17.0, 12.8, 8.0, 16.8, 13.7, 7.8, 17.5, 13.6, 8.7,\n",
        "17.1, 13.8, 9.2, 18.1, 13.9, 8.3, 16.4, 12.7, 8.9, 18.2, 13.1, 7.8,\n",
        "16.6, 12.5]"
      ]
    },
    {
      "cell_type": "code",
      "source": [
        "cold = []\n",
        "mild = []\n",
        "comfortable = []\n"
      ],
      "metadata": {
        "id": "KIxKMoZpMGKd"
      },
      "execution_count": 12,
      "outputs": []
    },
    {
      "cell_type": "code",
      "source": [
        "for temp in temperatures:\n",
        "    if temp < 10:\n",
        "        cold.append(temp)\n",
        "    elif 10 <= temp < 15:\n",
        "        mild.append(temp)\n",
        "    elif 15 <= temp <= 20:\n",
        "        comfortable.append(temp)\n",
        "\n"
      ],
      "metadata": {
        "id": "JLCJsEsiNFgS"
      },
      "execution_count": 15,
      "outputs": []
    },
    {
      "cell_type": "code",
      "source": [
        "print(f'Cold temperatute {cold}')\n",
        "print(f'Mild temperature {mild}')\n",
        "print(f'Comfortable temperature {comfortable}')\n"
      ],
      "metadata": {
        "colab": {
          "base_uri": "https://localhost:8080/"
        },
        "id": "P-_0UdMpN4fM",
        "outputId": "6d5686f4-6f38-4de2-f613-e3bb3e85df7d"
      },
      "execution_count": 16,
      "outputs": [
        {
          "output_type": "stream",
          "name": "stdout",
          "text": [
            "Cold temperatute [17.4, 14.1, 18.0, 13.5, 17.8, 13.0, 16.5, 12.9, 17.2, 13.3, 16.7, 14.0, 18.3, 13.4, 17.9, 14.2, 17.0, 12.8, 16.8, 13.7, 17.5, 13.6, 17.1, 13.8, 18.1, 13.9, 16.4, 12.7, 18.2, 13.1, 16.6, 12.5, 8.2, 7.9, 9.0, 8.5, 7.7, 8.4, 9.5, 8.1, 7.6, 8.0, 7.8, 8.7, 9.2, 8.3, 8.9, 7.8]\n",
            "Mild temperature [14.1, 13.5, 13.0, 12.9, 13.3, 14.0, 13.4, 14.2, 12.8, 13.7, 13.6, 13.8, 13.9, 12.7, 13.1, 12.5]\n",
            "Comfortable temperature [17.4, 18.0, 17.8, 16.5, 17.2, 16.7, 18.3, 17.9, 17.0, 16.8, 17.5, 17.1, 18.1, 16.4, 18.2, 16.6]\n"
          ]
        }
      ]
    },
    {
      "cell_type": "code",
      "source": [
        "len(cold)"
      ],
      "metadata": {
        "colab": {
          "base_uri": "https://localhost:8080/"
        },
        "id": "n4Ori11wPt6H",
        "outputId": "2c05962b-53f3-422f-8590-16c761f5fbb7"
      },
      "execution_count": 17,
      "outputs": [
        {
          "output_type": "execute_result",
          "data": {
            "text/plain": [
              "48"
            ]
          },
          "metadata": {},
          "execution_count": 17
        }
      ]
    },
    {
      "cell_type": "code",
      "source": [
        "len(mild)"
      ],
      "metadata": {
        "colab": {
          "base_uri": "https://localhost:8080/"
        },
        "id": "YReQMe-jPw14",
        "outputId": "05efa26f-5259-4cd8-a70f-d4acb84bb9a7"
      },
      "execution_count": 18,
      "outputs": [
        {
          "output_type": "execute_result",
          "data": {
            "text/plain": [
              "16"
            ]
          },
          "metadata": {},
          "execution_count": 18
        }
      ]
    },
    {
      "cell_type": "code",
      "source": [
        "len(comfortable)"
      ],
      "metadata": {
        "colab": {
          "base_uri": "https://localhost:8080/"
        },
        "id": "iaE5DemRP1BD",
        "outputId": "3d0bcea5-008f-4205-cedd-8dfbe4b5b22a"
      },
      "execution_count": 19,
      "outputs": [
        {
          "output_type": "execute_result",
          "data": {
            "text/plain": [
              "16"
            ]
          },
          "metadata": {},
          "execution_count": 19
        }
      ]
    },
    {
      "cell_type": "markdown",
      "source": [
        "1 It was 16 times  mild temperature\n",
        "\n",
        "2 It was 16 times comfortable temperature\n",
        "\n",
        "3 It was 48 times cold temperature"
      ],
      "metadata": {
        "id": "oq0iiBJmP_pA"
      }
    },
    {
      "cell_type": "code",
      "source": [
        "temperatures_fahrenheit = []\n"
      ],
      "metadata": {
        "id": "PvOpdP-OQ25Y"
      },
      "execution_count": 21,
      "outputs": []
    },
    {
      "cell_type": "code",
      "source": [
        "for temp in temperatures:\n",
        "  fahrenheit = (temp *9/5) + 32\n",
        "  temperatures_fahrenheit.append(fahrenheit)\n"
      ],
      "metadata": {
        "id": "b8EzW4gGRDR4"
      },
      "execution_count": 22,
      "outputs": []
    },
    {
      "cell_type": "code",
      "source": [
        "print(f'Temperature in fahrenheit {temperatures_fahrenheit}')"
      ],
      "metadata": {
        "colab": {
          "base_uri": "https://localhost:8080/"
        },
        "id": "VG_UunKgRb0g",
        "outputId": "ff078764-ec1e-4653-a057-61e9c2223e9c"
      },
      "execution_count": 24,
      "outputs": [
        {
          "output_type": "stream",
          "name": "stdout",
          "text": [
            "Temperature in fahrenheit [46.76, 63.32, 57.379999999999995, 46.22, 64.4, 56.3, 48.2, 64.04, 55.4, 47.3, 61.7, 55.22, 45.86, 62.959999999999994, 55.94, 47.120000000000005, 62.059999999999995, 57.2, 49.1, 64.94, 56.120000000000005, 46.58, 64.22, 57.56, 45.68, 62.6, 55.04, 46.4, 62.24, 56.66, 46.04, 63.5, 56.48, 47.66, 62.78, 56.84, 48.56, 64.58, 57.02, 46.94, 61.519999999999996, 54.86, 48.02, 64.75999999999999, 55.58, 46.04, 61.88, 54.5]\n"
          ]
        }
      ]
    },
    {
      "cell_type": "code",
      "source": [
        "night_temperatures = []\n",
        "evening_temperatures = []\n",
        "day_temperatures = []\n"
      ],
      "metadata": {
        "id": "lY4LU040SH4r"
      },
      "execution_count": 25,
      "outputs": []
    },
    {
      "cell_type": "code",
      "source": [
        "for i in range(0, len(temperatures), 3):\n",
        "    night_temperatures.append(temperatures[i])\n",
        "    evening_temperatures.append(temperatures[i+1])\n",
        "    day_temperatures.append(temperatures[i+2])"
      ],
      "metadata": {
        "id": "ldXoEId4SJNV"
      },
      "execution_count": 26,
      "outputs": []
    },
    {
      "cell_type": "code",
      "source": [
        "print(f'Night temperature {night_temperatures}')\n",
        "print(f'Evening temperature {evening_temperatures}')\n",
        "print(f'Day temperature {day_temperatures}')\n"
      ],
      "metadata": {
        "colab": {
          "base_uri": "https://localhost:8080/"
        },
        "id": "urWlyEuhSpXP",
        "outputId": "0f45f0d2-0bbb-49bc-b3f2-2d61c4f3e788"
      },
      "execution_count": 28,
      "outputs": [
        {
          "output_type": "stream",
          "name": "stdout",
          "text": [
            "Night temperature [8.2, 7.9, 9.0, 8.5, 7.7, 8.4, 9.5, 8.1, 7.6, 8.0, 7.8, 8.7, 9.2, 8.3, 8.9, 7.8]\n",
            "Evening temperature [17.4, 18.0, 17.8, 16.5, 17.2, 16.7, 18.3, 17.9, 17.0, 16.8, 17.5, 17.1, 18.1, 16.4, 18.2, 16.6]\n",
            "Day temperature [14.1, 13.5, 13.0, 12.9, 13.3, 14.0, 13.4, 14.2, 12.8, 13.7, 13.6, 13.8, 13.9, 12.7, 13.1, 12.5]\n"
          ]
        }
      ]
    },
    {
      "cell_type": "code",
      "source": [
        "average_day_temperature = sum(day_temperatures) / len(day_temperatures)"
      ],
      "metadata": {
        "id": "iZ8yVo7WS9BX"
      },
      "execution_count": 29,
      "outputs": []
    },
    {
      "cell_type": "code",
      "source": [
        "average_day_temperature"
      ],
      "metadata": {
        "colab": {
          "base_uri": "https://localhost:8080/"
        },
        "id": "OMYJSzJCTa5v",
        "outputId": "a4f47cba-3245-4674-c8cf-8c96cbb1030a"
      },
      "execution_count": 30,
      "outputs": [
        {
          "output_type": "execute_result",
          "data": {
            "text/plain": [
              "13.40625"
            ]
          },
          "metadata": {},
          "execution_count": 30
        }
      ]
    },
    {
      "cell_type": "code",
      "source": [
        "import matplotlib.pyplot as plt"
      ],
      "metadata": {
        "id": "66G6B0dWToq9"
      },
      "execution_count": 32,
      "outputs": []
    },
    {
      "cell_type": "code",
      "source": [
        "days = range(1, len(day_temperatures) + 1)\n",
        "plt.plot(days, day_temperatures, marker='*', color='b')\n",
        "plt.xlabel('Day of the Month')\n",
        "plt.ylabel('Temperature (°C)')\n",
        "plt.title('Day vs Temperature (Daytime)')\n",
        "plt.show()"
      ],
      "metadata": {
        "colab": {
          "base_uri": "https://localhost:8080/",
          "height": 472
        },
        "id": "xxUk9vVPT4AP",
        "outputId": "5b9ed42f-264c-4ee9-f936-724d1329f2b2"
      },
      "execution_count": 35,
      "outputs": [
        {
          "output_type": "display_data",
          "data": {
            "text/plain": [
              "<Figure size 640x480 with 1 Axes>"
            ],
            "image/png": "[encoded data removed]"
          },
          "metadata": {}
        }
      ]
    },
    {
      "cell_type": "code",
      "source": [
        "# task 1\n",
        "def sum_nested_list(nested_list):\n",
        "    total_sum = 0\n",
        "    for element in nested_list:\n",
        "        if isinstance(element, list):\n",
        "            total_sum += sum_nested_list(element)\n",
        "        else:\n",
        "            total_sum += element\n",
        "    return total_sum\n",
        "\n",
        "nested_list = [1, [2, [3, 4], 5], 6, [7, 8]]\n",
        "result = sum_nested_list(nested_list)\n"
      ],
      "metadata": {
        "id": "PGWxaqTTUnQG"
      },
      "execution_count": 37,
      "outputs": []
    },
    {
      "cell_type": "code",
      "source": [
        "print(f\"Total Sum:{result}\")"
      ],
      "metadata": {
        "colab": {
          "base_uri": "https://localhost:8080/"
        },
        "id": "zEkTZB7EUwYB",
        "outputId": "2eec557d-7c40-477b-92b3-fe5c931f20a7"
      },
      "execution_count": 39,
      "outputs": [
        {
          "output_type": "stream",
          "name": "stdout",
          "text": [
            "Total Sum:36\n"
          ]
        }
      ]
    },
    {
      "cell_type": "code",
      "source": [
        "# task 2\n",
        "def generate_permutations(s):\n",
        "    if len(s) <= 1:\n",
        "        return [s]\n",
        "\n",
        "    unique_permutations = set()\n",
        "\n",
        "    for i, char in enumerate(s):\n",
        "        remaining = s[:i] + s[i+1:]\n",
        "        for perm in generate_permutations(remaining):\n",
        "            unique_permutations.add(char + perm)\n",
        "\n",
        "    return list(unique_permutations)\n",
        "\n",
        "# Testing the function\n",
        "print(generate_permutations(\"abc\"))\n",
        "print(generate_permutations(\"aab\"))"
      ],
      "metadata": {
        "colab": {
          "base_uri": "https://localhost:8080/"
        },
        "id": "jJgwVcDtVtSV",
        "outputId": "2952dc46-dfa1-41ec-dd38-48dc57c935c6"
      },
      "execution_count": 42,
      "outputs": [
        {
          "output_type": "stream",
          "name": "stdout",
          "text": [
            "['abc', 'cba', 'cab', 'bca', 'bac', 'acb']\n",
            "['aba', 'baa', 'aab']\n"
          ]
        }
      ]
    },
    {
      "cell_type": "code",
      "source": [
        "def calculate_directory_size(directory):\n",
        "    total_size = 0\n",
        "    for name, content in directory.items():\n",
        "        if isinstance(content, int):\n",
        "            total_size += content\n",
        "        elif isinstance(content, dict):\n",
        "            total_size += calculate_directory_size(content)\n",
        "    return total_size\n",
        "\n",
        "\n",
        "directory_structure = {\n",
        "    \"file1.txt\": 200,\n",
        "    \"file2.txt\": 300,\n",
        "    \"subdir1\": {\n",
        "        \"file3.txt\": 400,\n",
        "        \"file4.txt\": 100\n",
        "    },\n",
        "    \"subdir2\": {\n",
        "        \"subsubdir1\": {\n",
        "            \"file5.txt\": 250\n",
        "        },\n",
        "        \"file6.txt\": 150\n",
        "    }\n",
        "}\n",
        "\n",
        "result = calculate_directory_size(directory_structure)\n",
        "print(f\"Total Directory Size: {result} KB \")"
      ],
      "metadata": {
        "colab": {
          "base_uri": "https://localhost:8080/"
        },
        "id": "2_-34N2cWhU6",
        "outputId": "23e52fa8-f13d-496a-fc33-0d1b68d35fc7"
      },
      "execution_count": 44,
      "outputs": [
        {
          "output_type": "stream",
          "name": "stdout",
          "text": [
            "Total Directory Size: 1400 KB \n"
          ]
        }
      ]
    },
    {
      "cell_type": "code",
      "source": [
        "def min_coins(coins, amount):\n",
        "    dp = [float('inf')] * (amount + 1)\n",
        "    dp[0] = 0\n",
        "\n",
        "    for coin in coins:\n",
        "        for i in range(coin, amount + 1):\n",
        "            dp[i] = min(dp[i], dp[i - coin] + 1)\n",
        "\n",
        "    return dp[amount] if dp[amount] != float('inf') else -1\n",
        "\n",
        "coins = [1, 2, 5]\n",
        "amount = 11\n",
        "result = min_coins(coins, amount)\n",
        "print(\"Minimum coins needed:\", result)"
      ],
      "metadata": {
        "colab": {
          "base_uri": "https://localhost:8080/"
        },
        "id": "0omWrxlPXLzg",
        "outputId": "2bd08a73-d98b-4f0d-e1ae-b3b49b61c85c"
      },
      "execution_count": 45,
      "outputs": [
        {
          "output_type": "stream",
          "name": "stdout",
          "text": [
            "Minimum coins needed: 3\n"
          ]
        }
      ]
    }
  ]
}